{
 "cells": [
  {
   "cell_type": "markdown",
   "id": "123456",
   "metadata": {},
   "source": [
    "<div style=\"text-align:left;font-size:2em\"><span style=\"font-weight:bolder;font-size:1.25em\">SP2273 | Learning Portfolio</span><br><br><span style=\"font-weight:bold;color:darkred\">Fundamentals (Need)</span></div>"
   ]
  },
  {
   "cell_type": "code",
   "execution_count": 1,
   "id": "ea5ac924",
   "metadata": {},
   "outputs": [
    {
     "name": "stdout",
     "output_type": "stream",
     "text": [
      "Hello World\n"
     ]
    }
   ],
   "source": [
    "print('Hello World')"
   ]
  },
  {
   "cell_type": "markdown",
   "id": "04f6ec09",
   "metadata": {},
   "source": [
    "The *ships hung in the sky* in much the same way that **bricks don’t**.<sup>1</sup><sub>QUOTE</sub>"
   ]
  },
  {
   "cell_type": "markdown",
   "id": "0bd6a037",
   "metadata": {},
   "source": [
    "```python\n",
    "print('Hello World!\")\n",
    "```"
   ]
  },
  {
   "cell_type": "markdown",
   "id": "033185bf",
   "metadata": {},
   "source": [
    "[LINK TEXT](https://sps.nus.edu.sg/sp2273/docs/python_basics/01_using_jupyter/1_using-jupyter_need.html)"
   ]
  },
  {
   "cell_type": "markdown",
   "id": "fb9cdd5b",
   "metadata": {},
   "source": [
    "# 1 Functions"
   ]
  },
  {
   "cell_type": "code",
   "execution_count": null,
   "id": "ff640fbd-9466-4ea2-a436-e5eee84a4977",
   "metadata": {},
   "outputs": [],
   "source": [
    "print('Hello World')"
   ]
  },
  {
   "cell_type": "markdown",
   "id": "0acf8eef-ff5c-4ac2-9826-7bc1112bf711",
   "metadata": {},
   "source": [
    "- Colour of different sections of code differs between SP2273 website notes and in my Jupyter Notebook (AKA Syntax Highlighting) -> Can be changed\n",
    "- A function normally accepts an argument/feed it an input (kind of like black box that does something very specific)\n",
    "- Functions always have brackets\n",
    "- print is an e.g. of a function -> In this case, input is placed within the bracket"
   ]
  },
  {
   "cell_type": "markdown",
   "id": "b0af9001",
   "metadata": {},
   "source": [
    "# 2 Python is interpreted"
   ]
  },
  {
   "cell_type": "code",
   "execution_count": 3,
   "id": "44e73610-28d9-438b-bc39-d2c82cc32bd7",
   "metadata": {},
   "outputs": [
    {
     "name": "stdout",
     "output_type": "stream",
     "text": [
      "Hello World 1\n",
      "Hello World again 2\n",
      "Hello World\n",
      "Hello World again 3\n",
      "Hello World\n"
     ]
    }
   ],
   "source": [
    "print('Hello World 1')\n",
    "print('Hello World again 2')\n",
    "print('Hello World')\n",
    "print('Hello World again 3')\n",
    "print('Hello World')"
   ]
  },
  {
   "cell_type": "markdown",
   "id": "750ebe6d-420b-4ab2-ade5-fe67cc7dca58",
   "metadata": {},
   "source": [
    "- Python will run each line of code one by one, will run lines of code that it can run (An intepreted language)\n",
    "- Syntax error observed in this e.g. when bracket is omitted because of something else looking at the code, not Python!\n",
    "- VS A compile language like C++, if there's any mistake in any of the lines, it will not comply"
   ]
  },
  {
   "cell_type": "markdown",
   "id": "120ed34b",
   "metadata": {},
   "source": [
    "# 3 Python is sensitive."
   ]
  },
  {
   "cell_type": "code",
   "execution_count": 4,
   "id": "262fe9f6-b111-471a-a6b5-44b03912e81a",
   "metadata": {},
   "outputs": [
    {
     "name": "stdout",
     "output_type": "stream",
     "text": [
      "Hello World\n"
     ]
    },
    {
     "ename": "NameError",
     "evalue": "name 'Print' is not defined",
     "output_type": "error",
     "traceback": [
      "\u001b[0;31m---------------------------------------------------------------------------\u001b[0m",
      "\u001b[0;31mNameError\u001b[0m                                 Traceback (most recent call last)",
      "Cell \u001b[0;32mIn[4], line 2\u001b[0m\n\u001b[1;32m      1\u001b[0m \u001b[38;5;28mprint\u001b[39m(\u001b[38;5;124m'\u001b[39m\u001b[38;5;124mHello World\u001b[39m\u001b[38;5;124m'\u001b[39m)\n\u001b[0;32m----> 2\u001b[0m Print(\u001b[38;5;124m'\u001b[39m\u001b[38;5;124mHello World\u001b[39m\u001b[38;5;124m'\u001b[39m)\n",
      "\u001b[0;31mNameError\u001b[0m: name 'Print' is not defined"
     ]
    }
   ],
   "source": [
    "print('Hello World')\n",
    "Print('Hello World')"
   ]
  },
  {
   "cell_type": "markdown",
   "id": "d6fa75dd-fb15-498a-9a45-499da5fdd663",
   "metadata": {},
   "source": [
    "- Python (& other programming languages) are case sensitive"
   ]
  },
  {
   "cell_type": "markdown",
   "id": "3e57e9b9",
   "metadata": {},
   "source": [
    "# 4 Comments"
   ]
  },
  {
   "cell_type": "code",
   "execution_count": 5,
   "id": "e41975f4-d0ff-4338-be3c-e6525e878521",
   "metadata": {},
   "outputs": [
    {
     "name": "stdout",
     "output_type": "stream",
     "text": [
      "One\n",
      "Three\n"
     ]
    }
   ],
   "source": [
    "# This is a comment\n",
    "print('One')              # This is a comment.\n",
    "# print('Two')            # The interpreter ignores this line.\n",
    "print('Three')            # This is\n",
    "                          # also a way to\n",
    "                          # write comments"
   ]
  },
  {
   "cell_type": "code",
   "execution_count": 9,
   "id": "2dd8b8f0-3a9d-4666-9c25-1cfade39b6f5",
   "metadata": {},
   "outputs": [
    {
     "name": "stdout",
     "output_type": "stream",
     "text": [
      "Hello...\n",
      "World\n",
      "1\n",
      "2\n",
      "3\n"
     ]
    }
   ],
   "source": [
    "print('Hello...')\n",
    "print('World')  # Testing comment\n",
    "\n",
    "#--------------#\n",
    "#--------------\n",
    "print('1')\n",
    "print('2')\n",
    "print('3')"
   ]
  },
  {
   "cell_type": "markdown",
   "id": "895244e5-bc10-4c44-a667-c31c3420e262",
   "metadata": {},
   "source": [
    "- Can make comments to help you remember the purposes of your lines of code, especially when you return to them a few days later (More about why you writing that line not what you're doing)\n",
    "- Can also make comments to break up code to make it more readable but not encouraged"
   ]
  },
  {
   "cell_type": "code",
   "execution_count": 1,
   "id": "5b54db66-cb74-462c-831a-f411fc270e33",
   "metadata": {},
   "outputs": [
    {
     "data": {
      "text/plain": [
       "'\\nMultiline\\ncomments\\n.o.\\n'"
      ]
     },
     "execution_count": 1,
     "metadata": {},
     "output_type": "execute_result"
    }
   ],
   "source": [
    "\"\"\"\n",
    "Multiline\n",
    "comments\n",
    ".o.\n",
    "\"\"\""
   ]
  },
  {
   "cell_type": "markdown",
   "id": "c0abe3a8-208c-4572-a5de-462077d24787",
   "metadata": {},
   "source": [
    "- Above is a docstring (with the \"\"\") -> Can be used to write multiline comments but may not be great if you're doing Python seriously"
   ]
  },
  {
   "cell_type": "markdown",
   "id": "4085c578",
   "metadata": {},
   "source": [
    "# 5 = is not the same as =="
   ]
  },
  {
   "cell_type": "code",
   "execution_count": 2,
   "id": "e15dfdad-34bb-4482-9ab2-3c76b71e7551",
   "metadata": {},
   "outputs": [],
   "source": [
    "name = 'Batman'"
   ]
  },
  {
   "cell_type": "code",
   "execution_count": 3,
   "id": "1688c87f-b216-41e9-83d2-d5cdcabadb40",
   "metadata": {},
   "outputs": [
    {
     "data": {
      "text/plain": [
       "'Batman'"
      ]
     },
     "execution_count": 3,
     "metadata": {},
     "output_type": "execute_result"
    }
   ],
   "source": [
    "name"
   ]
  },
  {
   "cell_type": "code",
   "execution_count": 4,
   "id": "2e2141ae-1389-474c-9ded-89932f5f423b",
   "metadata": {},
   "outputs": [
    {
     "data": {
      "text/plain": [
       "True"
      ]
     },
     "execution_count": 4,
     "metadata": {},
     "output_type": "execute_result"
    }
   ],
   "source": [
    "name == 'Batman' "
   ]
  },
  {
   "cell_type": "markdown",
   "id": "120c63fa-5e93-41ac-8fef-8ec000bf2dc6",
   "metadata": {},
   "source": [
    "If you run name == 'Batman' before running name = 'Batman' will give name error cus name isn't defined"
   ]
  },
  {
   "cell_type": "markdown",
   "id": "d930c49b-4820-4ac5-813c-0c51b0396f66",
   "metadata": {},
   "source": [
    "- = makes something equal something\n",
    "- == is a question, in this e.g., it's asking if name is equal to Batman -> Will either get True or False"
   ]
  },
  {
   "cell_type": "code",
   "execution_count": 6,
   "id": "24d17046-51a8-4742-896a-c6fb2eae1677",
   "metadata": {},
   "outputs": [],
   "source": [
    "name = 'Robin' # Now, if you run code to ask if name is Batman, will get false"
   ]
  },
  {
   "cell_type": "markdown",
   "id": "ab3cb0ed",
   "metadata": {},
   "source": [
    "# 6 Use if to make decisions"
   ]
  },
  {
   "cell_type": "code",
   "execution_count": 11,
   "id": "ae118b96-4269-4038-b9f3-03f400a3f035",
   "metadata": {},
   "outputs": [
    {
     "name": "stdout",
     "output_type": "stream",
     "text": [
      "Hello Batman!\n",
      "Hello Batman!\n"
     ]
    }
   ],
   "source": [
    "name = 'Batman'\n",
    "\n",
    "if name == 'Batman':\n",
    "    print('Hello Batman!') # What is done when true\n",
    "    print('Hello Batman!') # If this line is removed, Hello Batman printed just once in this e.g.\n",
    "else:\n",
    "    print('Hello World!') # What's done when false\n",
    "    print('Hello World!') \n",
    "    print('Hello World!')"
   ]
  },
  {
   "cell_type": "markdown",
   "id": "697d91fd-7a49-4103-a869-826547a2dc08",
   "metadata": {},
   "source": [
    "- Block of code is distinguished by an indent -> Indents matter in Python\n",
    "- Colons (:) tells you when the block starts"
   ]
  },
  {
   "cell_type": "code",
   "execution_count": 8,
   "id": "f32c5bd8-5395-44d3-8708-1d6e8571d052",
   "metadata": {},
   "outputs": [
    {
     "ename": "SyntaxError",
     "evalue": "invalid syntax. Maybe you meant '==' or ':=' instead of '='? (1734495519.py, line 3)",
     "output_type": "error",
     "traceback": [
      "\u001b[0;36m  Cell \u001b[0;32mIn[8], line 3\u001b[0;36m\u001b[0m\n\u001b[0;31m    if name = 'Batman':\u001b[0m\n\u001b[0m       ^\u001b[0m\n\u001b[0;31mSyntaxError\u001b[0m\u001b[0;31m:\u001b[0m invalid syntax. Maybe you meant '==' or ':=' instead of '='?\n"
     ]
    }
   ],
   "source": [
    "name = 'Batman'\n",
    "\n",
    "if name = 'Batman':\n",
    "    print('Hello Batman!')\n",
    "else:\n",
    "    print('Hello World!')"
   ]
  },
  {
   "cell_type": "markdown",
   "id": "07c44a61-723d-4e03-9f1c-b609bd98b396",
   "metadata": {},
   "source": [
    "- Decisions are one of the most important structure in any programming language -> Programming languages won't work if can't make a decision depending on a condition\n",
    "- If you define another variable elsewhere, will affect your code elsewhere in the same file -> Normally, you run the whole Python script in one go using the terminal"
   ]
  },
  {
   "cell_type": "markdown",
   "id": "0ad2c5b8",
   "metadata": {},
   "source": [
    "# 7 Indentations (spaces) are sooo IMPORTANT!"
   ]
  },
  {
   "cell_type": "code",
   "execution_count": 14,
   "id": "770d38e2-8078-437a-a582-8c5b881e654b",
   "metadata": {},
   "outputs": [
    {
     "name": "stdout",
     "output_type": "stream",
     "text": [
      "10\n"
     ]
    }
   ],
   "source": [
    "    x = 10\n",
    "    print(x)"
   ]
  },
  {
   "cell_type": "markdown",
   "id": "4f8ae85b-e7ec-4bb9-a477-bb813e586c30",
   "metadata": {},
   "source": [
    "- If only 1 line of the code above is indented (using tab button), code won't run\n",
    "- If both lines of code are aligned, even if there are spaces or indents in front, will still run\n",
    "- Best to stick with using tab instead of space button"
   ]
  },
  {
   "cell_type": "markdown",
   "id": "57e677ec",
   "metadata": {},
   "source": [
    "# 8 ‘age’ is English, age is a variable."
   ]
  },
  {
   "cell_type": "code",
   "execution_count": 1,
   "id": "5b3671cf-b0a1-467e-8a43-0ec4585eba80",
   "metadata": {},
   "outputs": [],
   "source": [
    "age=10"
   ]
  },
  {
   "cell_type": "markdown",
   "id": "98875102-6235-4aee-8bc1-41474ca10362",
   "metadata": {},
   "source": [
    "- Best to be as descriptive as possible when writing variable names -> use word(s) that describes it rather than just using x, otherwise gets very confusing (E.g. student_age vs x)"
   ]
  },
  {
   "cell_type": "code",
   "execution_count": 3,
   "id": "0f8b3adb-76bd-4f1e-8d50-ec0e405054e1",
   "metadata": {},
   "outputs": [
    {
     "name": "stdout",
     "output_type": "stream",
     "text": [
      "10\n",
      "age\n",
      "age 10\n"
     ]
    }
   ],
   "source": [
    "print(age)       # Print the value of the variable age\n",
    "print(\"age\")     # Print the English word 'age'\n",
    "print('age',age) # Either ' or \" is ok but be consistent because may have to use both at times"
   ]
  },
  {
   "cell_type": "markdown",
   "id": "1dd4a3b0-3ff9-4ffc-ac76-fc0cd4ef7097",
   "metadata": {},
   "source": [
    "- English words are usually a different colour from variables\n",
    "- First line won't run until you have defined age\n",
    "- Also, can't use just any variable you like, e.g. in the Using Jupyter (Good) exercise, the print line of code causes the print function to be overrided -> Python will now think that print is a variable print"
   ]
  },
  {
   "cell_type": "code",
   "execution_count": 4,
   "id": "2e018421-6b05-4c21-a2c9-5b1e2aea67ae",
   "metadata": {},
   "outputs": [
    {
     "ename": "SyntaxError",
     "evalue": "invalid syntax (3963200833.py, line 1)",
     "output_type": "error",
     "traceback": [
      "\u001b[0;36m  Cell \u001b[0;32mIn[4], line 1\u001b[0;36m\u001b[0m\n\u001b[0;31m    if=10\u001b[0m\n\u001b[0m      ^\u001b[0m\n\u001b[0;31mSyntaxError\u001b[0m\u001b[0;31m:\u001b[0m invalid syntax\n"
     ]
    }
   ],
   "source": [
    "if=10"
   ]
  },
  {
   "cell_type": "markdown",
   "id": "8b3c5021-1034-4672-9fc3-e94ae4544dae",
   "metadata": {},
   "source": [
    "- Can't use if & for cus they are keywords of the language, part of the structure of the language -> Also indicated by 'if' turning green\n",
    "- Also, can't use numbers as variables"
   ]
  },
  {
   "cell_type": "markdown",
   "id": "b06f7887",
   "metadata": {},
   "source": [
    "# 9 Brackets (), [], {}"
   ]
  },
  {
   "cell_type": "code",
   "execution_count": null,
   "id": "3744517e-dca4-4cbc-aa43-6b8aa45581ea",
   "metadata": {},
   "outputs": [],
   "source": [
    "print('Hello!')             # In functions"
   ]
  },
  {
   "cell_type": "markdown",
   "id": "1ec3e63a-a2e7-4dcc-847f-e45ff1d3676f",
   "metadata": {},
   "source": [
    "- Must have brackets for functions"
   ]
  },
  {
   "cell_type": "code",
   "execution_count": null,
   "id": "0ad8886b-b7b4-4bf3-90e9-edb1b00fa00f",
   "metadata": {},
   "outputs": [],
   "source": [
    "(1 + 2) * 5                 # For math"
   ]
  },
  {
   "cell_type": "code",
   "execution_count": 5,
   "id": "3e781525-f603-4620-bd89-1bb9f9ace34b",
   "metadata": {},
   "outputs": [
    {
     "ename": "TypeError",
     "evalue": "unsupported operand type(s) for +: 'int' and 'list'",
     "output_type": "error",
     "traceback": [
      "\u001b[0;31m---------------------------------------------------------------------------\u001b[0m",
      "\u001b[0;31mTypeError\u001b[0m                                 Traceback (most recent call last)",
      "Cell \u001b[0;32mIn[5], line 1\u001b[0m\n\u001b[0;32m----> 1\u001b[0m (\u001b[38;5;241m1\u001b[39m \u001b[38;5;241m+\u001b[39m [\u001b[38;5;241m3\u001b[39m\u001b[38;5;241m*\u001b[39m\u001b[38;5;241m5\u001b[39m]) \u001b[38;5;241m*\u001b[39m \u001b[38;5;241m5\u001b[39m\n",
      "\u001b[0;31mTypeError\u001b[0m: unsupported operand type(s) for +: 'int' and 'list'"
     ]
    }
   ],
   "source": [
    "(1 + [3*5]) * 5  "
   ]
  },
  {
   "cell_type": "markdown",
   "id": "335e83e4-2b2d-4d7f-ac9e-46b71cb4a9ba",
   "metadata": {},
   "source": [
    "- Using the square brackets in this math expression won't work because Python will think that the square bracket is a list\n",
    "- Must use only (), e.g. (1+ (3*5)) * 5"
   ]
  },
  {
   "cell_type": "code",
   "execution_count": null,
   "id": "41bc1fdd-3c4f-4274-830d-c97cbdc6e10a",
   "metadata": {},
   "outputs": [],
   "source": [
    "py_list = [1, 2, 3, 4, 5]   # A 1D list\n",
    "\n",
    "py_list_2 = [               # A 2D list, is a list that contains other lists\n",
    "                [1, \"A\"],      \n",
    "                [2, \"B\"],   # Can have even higher dimension lists, e.g. 3D, 4D etc\n",
    "                [3, \"C\"],\n",
    "                [4, \"D\"],\n",
    "                [5, \"E\"]\n",
    "            ]"
   ]
  },
  {
   "cell_type": "markdown",
   "id": "b2d46eb2-358f-401d-add1-4b991f2a476e",
   "metadata": {},
   "source": [
    "- Lists are just a collection of items, doesn't always have to be the same type\n",
    "- E.g. can have a mix of English words & letters, numbers & variables"
   ]
  },
  {
   "cell_type": "code",
   "execution_count": 6,
   "id": "e32ff651-23db-4634-b61c-b2a971ed14e9",
   "metadata": {},
   "outputs": [],
   "source": [
    "personal_info = {\n",
    "    'Names': 'Batman',\n",
    "    'Real Name': 'Bruce Wayne',\n",
    "    'Age': 55,\n",
    "    'Affiliation': 'Justice League',\n",
    "    'Universe': 'DC'\n",
    "}"
   ]
  },
  {
   "cell_type": "markdown",
   "id": "fc63c447-1a5b-4d43-90e0-9956a5f21cc1",
   "metadata": {},
   "source": [
    "- Above is a dictionary\n",
    "- To store information in a dictionary, need to give the data a name (a key)\n",
    "- E.g. The data is Batman, the key is Names\n",
    "- Dictionaries make it easy to extract or update information"
   ]
  },
  {
   "cell_type": "code",
   "execution_count": 7,
   "id": "02ec9e95-5ce6-4236-afb6-b55e42161420",
   "metadata": {},
   "outputs": [
    {
     "data": {
      "text/plain": [
       "'Batman'"
      ]
     },
     "execution_count": 7,
     "metadata": {},
     "output_type": "execute_result"
    }
   ],
   "source": [
    "personal_info['Names']"
   ]
  },
  {
   "cell_type": "markdown",
   "id": "fdcd9a70-9bf7-4aae-92c8-de4d4b530935",
   "metadata": {},
   "source": [
    "- The key you extract is capital sensitive AKA capital letters matter"
   ]
  },
  {
   "cell_type": "code",
   "execution_count": 8,
   "id": "3eee8b20-48d7-4c05-b3c6-6a1aca11ec35",
   "metadata": {},
   "outputs": [
    {
     "ename": "KeyError",
     "evalue": "'names'",
     "output_type": "error",
     "traceback": [
      "\u001b[0;31m---------------------------------------------------------------------------\u001b[0m",
      "\u001b[0;31mKeyError\u001b[0m                                  Traceback (most recent call last)",
      "Cell \u001b[0;32mIn[8], line 1\u001b[0m\n\u001b[0;32m----> 1\u001b[0m personal_info[\u001b[38;5;124m'\u001b[39m\u001b[38;5;124mnames\u001b[39m\u001b[38;5;124m'\u001b[39m]\n",
      "\u001b[0;31mKeyError\u001b[0m: 'names'"
     ]
    }
   ],
   "source": [
    "personal_info['names']"
   ]
  },
  {
   "cell_type": "code",
   "execution_count": 9,
   "id": "10c1eafb-e6a1-42a8-9fcf-15eaeb4efe85",
   "metadata": {},
   "outputs": [],
   "source": [
    "personal_info['Names'] = 'Hehehe'"
   ]
  },
  {
   "cell_type": "code",
   "execution_count": 10,
   "id": "7560ec9f-c51a-4320-9898-e32e6dc5cd7a",
   "metadata": {},
   "outputs": [
    {
     "data": {
      "text/plain": [
       "{'Names': 'Hehehe',\n",
       " 'Real Name': 'Bruce Wayne',\n",
       " 'Age': 55,\n",
       " 'Affiliation': 'Justice League',\n",
       " 'Universe': 'DC'}"
      ]
     },
     "execution_count": 10,
     "metadata": {},
     "output_type": "execute_result"
    }
   ],
   "source": [
    "personal_info"
   ]
  },
  {
   "cell_type": "markdown",
   "id": "52349f75-f5a2-4158-b6ee-0ef3cc985c78",
   "metadata": {},
   "source": [
    "- When you press tab, Jupyter gives you a list of the variables you know but must start typing part of the variable before you can press tab"
   ]
  },
  {
   "cell_type": "markdown",
   "id": "8c33fff9",
   "metadata": {},
   "source": [
    "# 10 Giving Python superpowers with Packages"
   ]
  },
  {
   "cell_type": "code",
   "execution_count": 11,
   "id": "427ba9c2-00d6-4518-a104-c08146798693",
   "metadata": {},
   "outputs": [
    {
     "data": {
      "text/plain": [
       "40.5"
      ]
     },
     "execution_count": 11,
     "metadata": {},
     "output_type": "execute_result"
    }
   ],
   "source": [
    "1 * ((2 - 3) + 4) ** 5 / 6"
   ]
  },
  {
   "cell_type": "code",
   "execution_count": 12,
   "id": "7d10313d-8a08-4db0-a741-33820946cb69",
   "metadata": {},
   "outputs": [
    {
     "ename": "NameError",
     "evalue": "name 'sqrt' is not defined",
     "output_type": "error",
     "traceback": [
      "\u001b[0;31m---------------------------------------------------------------------------\u001b[0m",
      "\u001b[0;31mNameError\u001b[0m                                 Traceback (most recent call last)",
      "Cell \u001b[0;32mIn[12], line 1\u001b[0m\n\u001b[0;32m----> 1\u001b[0m sqrt(\u001b[38;5;241m4\u001b[39m)\n",
      "\u001b[0;31mNameError\u001b[0m: name 'sqrt' is not defined"
     ]
    }
   ],
   "source": [
    "sqrt(4)"
   ]
  },
  {
   "cell_type": "markdown",
   "id": "b18c2f2d-18b0-4997-b5ee-398759ea4b2b",
   "metadata": {},
   "source": [
    "- Simple math function doesn't work because base Python that comes out of the box doesn't understand maths other than simple (), / or *\n",
    "- To do more complicated maths, need to teach Python how to calculate square root as an e.g. -> With the use of modules & packages -> They're used in a similar way but are 2 different things\n",
    "- Teach Python new things by importing packages\n",
    "- By importing math, it comes along with many other functions"
   ]
  },
  {
   "cell_type": "code",
   "execution_count": 13,
   "id": "e9efe2b5-d8b6-4bd4-b617-394e711873de",
   "metadata": {},
   "outputs": [],
   "source": [
    "import math"
   ]
  },
  {
   "cell_type": "code",
   "execution_count": 14,
   "id": "19b31b5c-2e02-4c8d-b1fb-51e3201650aa",
   "metadata": {},
   "outputs": [
    {
     "data": {
      "text/plain": [
       "2.0"
      ]
     },
     "execution_count": 14,
     "metadata": {},
     "output_type": "execute_result"
    }
   ],
   "source": [
    "math.sqrt(4)"
   ]
  },
  {
   "cell_type": "code",
   "execution_count": 15,
   "id": "3aa1e058-07da-4e1b-9cab-2476d11f475d",
   "metadata": {},
   "outputs": [],
   "source": [
    "import numpy"
   ]
  },
  {
   "cell_type": "code",
   "execution_count": 16,
   "id": "6590efbf-a82e-48b7-a95d-dfafceb22297",
   "metadata": {},
   "outputs": [
    {
     "data": {
      "text/plain": [
       "2.0"
      ]
     },
     "execution_count": 16,
     "metadata": {},
     "output_type": "execute_result"
    }
   ],
   "source": [
    "numpy.sqrt(4)"
   ]
  },
  {
   "cell_type": "markdown",
   "id": "704cce2e-e014-4b29-ad8e-224f3da76b5e",
   "metadata": {},
   "source": [
    "- Now, you've numpy (another package) has been imported\n",
    "- numpy also has a square root function, there are multiple packages with multiple functions\n",
    "- Although both math.sqrt(4) & numpy.sqrt(4) (both are functions) seem to be doing the same thing, the 2 functions are very different "
   ]
  },
  {
   "cell_type": "code",
   "execution_count": 17,
   "id": "dbcf8a0a-6571-4b6e-9cc0-954b2a05f0be",
   "metadata": {},
   "outputs": [
    {
     "data": {
      "text/plain": [
       "array([2., 3., 4.])"
      ]
     },
     "execution_count": 17,
     "metadata": {},
     "output_type": "execute_result"
    }
   ],
   "source": [
    "numpy.sqrt([4,9,16])"
   ]
  },
  {
   "cell_type": "code",
   "execution_count": 18,
   "id": "f46ba07c-e39d-48cd-b3bd-350ca5d890dc",
   "metadata": {},
   "outputs": [
    {
     "ename": "TypeError",
     "evalue": "must be real number, not list",
     "output_type": "error",
     "traceback": [
      "\u001b[0;31m---------------------------------------------------------------------------\u001b[0m",
      "\u001b[0;31mTypeError\u001b[0m                                 Traceback (most recent call last)",
      "Cell \u001b[0;32mIn[18], line 1\u001b[0m\n\u001b[0;32m----> 1\u001b[0m math\u001b[38;5;241m.\u001b[39msqrt([\u001b[38;5;241m4\u001b[39m,\u001b[38;5;241m9\u001b[39m,\u001b[38;5;241m16\u001b[39m])\n",
      "\u001b[0;31mTypeError\u001b[0m: must be real number, not list"
     ]
    }
   ],
   "source": [
    "math.sqrt([4,9,16])"
   ]
  },
  {
   "cell_type": "markdown",
   "id": "8c3e94c7-2d29-4c15-af09-a6ddf8983057",
   "metadata": {},
   "source": [
    "- numpy can work on a whole list of numbers but math can't because numpy is designed specially for it"
   ]
  },
  {
   "cell_type": "code",
   "execution_count": 19,
   "id": "f0459c87-f786-48b7-a6cd-312dd253ff53",
   "metadata": {},
   "outputs": [],
   "source": [
    "import numpy as np #use alias so don't need to keep typing numpy "
   ]
  },
  {
   "cell_type": "code",
   "execution_count": 20,
   "id": "382dc118-8a5e-4c5b-8c0e-f0093d0d3b5f",
   "metadata": {},
   "outputs": [
    {
     "data": {
      "text/plain": [
       "10.0"
      ]
     },
     "execution_count": 20,
     "metadata": {},
     "output_type": "execute_result"
    }
   ],
   "source": [
    "np.sqrt(100)"
   ]
  },
  {
   "cell_type": "markdown",
   "id": "aef3b05b-9e63-4f50-a5e7-6f274453a2cb",
   "metadata": {},
   "source": [
    "- If you restart the Kernel, np & math will be forgotten -> need to import the package again for things to run again -> do this by just running line of code that says import __ again"
   ]
  },
  {
   "cell_type": "markdown",
   "id": "7aaa661e",
   "metadata": {},
   "source": [
    "# 11 The dot (.)"
   ]
  },
  {
   "cell_type": "code",
   "execution_count": null,
   "id": "3b016f14-a9b5-452b-a12e-370d38476a71",
   "metadata": {},
   "outputs": [],
   "source": [
    "math.sqrt(4)\n",
    "np.sqrt(4)"
   ]
  },
  {
   "cell_type": "markdown",
   "id": "74962524-3800-4e5b-a307-2b4bb09de8c1",
   "metadata": {},
   "source": [
    "- The dot is used to indicate ownership\n",
    "- math.sqrt means square root that belongs to math"
   ]
  },
  {
   "cell_type": "code",
   "execution_count": 21,
   "id": "40e116f8-e498-4ed7-bdbf-521bc2395368",
   "metadata": {},
   "outputs": [
    {
     "data": {
      "text/plain": [
       "'APPLE'"
      ]
     },
     "execution_count": 21,
     "metadata": {},
     "output_type": "execute_result"
    }
   ],
   "source": [
    "'apple'.upper()"
   ]
  },
  {
   "cell_type": "markdown",
   "id": "8e5beab2-b95b-45cb-97fb-33e0aa923773",
   "metadata": {},
   "source": [
    "- This means that there is a function (upper) that belongs to apple"
   ]
  },
  {
   "cell_type": "code",
   "execution_count": 26,
   "id": "0d9fca37-2dd5-4c52-b112-f55a3f8b7623",
   "metadata": {},
   "outputs": [
    {
     "ename": "SyntaxError",
     "evalue": "invalid decimal literal (4196007288.py, line 1)",
     "output_type": "error",
     "traceback": [
      "\u001b[0;36m  Cell \u001b[0;32mIn[26], line 1\u001b[0;36m\u001b[0m\n\u001b[0;31m    1.upper()\u001b[0m\n\u001b[0m     ^\u001b[0m\n\u001b[0;31mSyntaxError\u001b[0m\u001b[0;31m:\u001b[0m invalid decimal literal\n"
     ]
    }
   ],
   "source": [
    "1.upper()"
   ]
  },
  {
   "cell_type": "markdown",
   "id": "b030ac19-149d-403c-8e23-47988a3c754c",
   "metadata": {},
   "source": [
    "- In this case, numbers don't have a function called upper"
   ]
  },
  {
   "cell_type": "code",
   "execution_count": 22,
   "id": "5c74d90e-e4a2-44de-ae9b-c8ad0f90907f",
   "metadata": {},
   "outputs": [
    {
     "data": {
      "text/plain": [
       "'Apple'"
      ]
     },
     "execution_count": 22,
     "metadata": {},
     "output_type": "execute_result"
    }
   ],
   "source": [
    "'apple'.title()"
   ]
  },
  {
   "cell_type": "code",
   "execution_count": 23,
   "id": "3a0c054a-340f-4246-aca1-40c81e59c561",
   "metadata": {},
   "outputs": [],
   "source": [
    "x=1j+10"
   ]
  },
  {
   "cell_type": "markdown",
   "id": "a9bfc46d-f303-48fe-b798-e135d230fb8a",
   "metadata": {},
   "source": [
    "- A complex number created, with an imaginary number\n",
    "- Can extract the real & imaginary part"
   ]
  },
  {
   "cell_type": "code",
   "execution_count": 27,
   "id": "6e7bac2b-2648-4347-9e23-d8ec5cad5bd9",
   "metadata": {},
   "outputs": [
    {
     "data": {
      "text/plain": [
       "10.0"
      ]
     },
     "execution_count": 27,
     "metadata": {},
     "output_type": "execute_result"
    }
   ],
   "source": [
    "x.real  # This is not a function, it's a property"
   ]
  },
  {
   "cell_type": "code",
   "execution_count": 28,
   "id": "c5bebfce-f1f9-441d-8416-9ce5d75b7c46",
   "metadata": {},
   "outputs": [
    {
     "data": {
      "text/plain": [
       "1.0"
      ]
     },
     "execution_count": 28,
     "metadata": {},
     "output_type": "execute_result"
    }
   ],
   "source": [
    "x.imag  # This is not a function, it's a property"
   ]
  },
  {
   "cell_type": "markdown",
   "id": "cee6f490-1932-4a87-b213-648d74ccde48",
   "metadata": {},
   "source": [
    "- Everything in Python has associated functions\n",
    "- E.g. for math, you use a function that belongs to the package\n",
    "- For apple, you're using a function that belongs to a class of the English letters\n",
    "- Integers, English letters & complex numbers all have associated functions that belong to them"
   ]
  },
  {
   "cell_type": "markdown",
   "id": "aa60a683-39ff-4ad1-b3f4-1b49f47b62be",
   "metadata": {},
   "source": [
    "- You can extract 2 things from the dot: Functions & Properties\n",
    "- Everything in Python is an object, class has something called methods (which are functions) & attributes (which are properties) -> Basically, you can have hidden stuff -> Don't need to worry about the jargon yet"
   ]
  },
  {
   "cell_type": "code",
   "execution_count": 29,
   "id": "bea6f1d7-f4f6-4a7a-8512-2254537cc6db",
   "metadata": {},
   "outputs": [
    {
     "data": {
      "text/plain": [
       "'AB'"
      ]
     },
     "execution_count": 29,
     "metadata": {},
     "output_type": "execute_result"
    }
   ],
   "source": [
    "'A' + 'B'"
   ]
  },
  {
   "cell_type": "markdown",
   "id": "33226a37-6696-4f2a-85a3-3a52af0630f1",
   "metadata": {},
   "source": [
    "- You can do this for english letters because when they set up the text (the English class), they defined a plus function for it -> Plus function is just joined index together"
   ]
  },
  {
   "cell_type": "code",
   "execution_count": 30,
   "id": "3f57a3f6-4bc5-41e4-8123-efa256bde8d6",
   "metadata": {},
   "outputs": [
    {
     "data": {
      "text/plain": [
       "'ABBBBBBBBBB'"
      ]
     },
     "execution_count": 30,
     "metadata": {},
     "output_type": "execute_result"
    }
   ],
   "source": [
    "'A' + 'B'*10"
   ]
  },
  {
   "cell_type": "code",
   "execution_count": 31,
   "id": "1d679962-66e5-4ba8-846e-a66199545012",
   "metadata": {},
   "outputs": [
    {
     "ename": "TypeError",
     "evalue": "unsupported operand type(s) for /: 'str' and 'int'",
     "output_type": "error",
     "traceback": [
      "\u001b[0;31m---------------------------------------------------------------------------\u001b[0m",
      "\u001b[0;31mTypeError\u001b[0m                                 Traceback (most recent call last)",
      "Cell \u001b[0;32mIn[31], line 1\u001b[0m\n\u001b[0;32m----> 1\u001b[0m \u001b[38;5;124m'\u001b[39m\u001b[38;5;124mA\u001b[39m\u001b[38;5;124m'\u001b[39m\u001b[38;5;241m*\u001b[39m\u001b[38;5;241m10\u001b[39m \u001b[38;5;241m+\u001b[39m \u001b[38;5;124m'\u001b[39m\u001b[38;5;124mB\u001b[39m\u001b[38;5;124m'\u001b[39m\u001b[38;5;241m/\u001b[39m\u001b[38;5;241m10\u001b[39m\n",
      "\u001b[0;31mTypeError\u001b[0m: unsupported operand type(s) for /: 'str' and 'int'"
     ]
    }
   ],
   "source": [
    "'A'*10 + 'B'/10"
   ]
  },
  {
   "cell_type": "markdown",
   "id": "ba219483-5079-4382-8fe0-732451e3c20e",
   "metadata": {},
   "source": [
    "- Division (/) isn't defined for letters but you can define it if you want"
   ]
  },
  {
   "cell_type": "code",
   "execution_count": 32,
   "id": "50b9bf17-382f-4f79-9182-71dc217c5ecf",
   "metadata": {},
   "outputs": [
    {
     "ename": "NameError",
     "evalue": "name 'upper' is not defined",
     "output_type": "error",
     "traceback": [
      "\u001b[0;31m---------------------------------------------------------------------------\u001b[0m",
      "\u001b[0;31mNameError\u001b[0m                                 Traceback (most recent call last)",
      "Cell \u001b[0;32mIn[32], line 1\u001b[0m\n\u001b[0;32m----> 1\u001b[0m upper(\u001b[38;5;124m'\u001b[39m\u001b[38;5;124mapple\u001b[39m\u001b[38;5;124m'\u001b[39m)\n",
      "\u001b[0;31mNameError\u001b[0m: name 'upper' is not defined"
     ]
    }
   ],
   "source": [
    "upper('apple')"
   ]
  },
  {
   "cell_type": "code",
   "execution_count": 33,
   "id": "b11f07dd-b7b9-4236-ba41-ba0ddfa1e13c",
   "metadata": {},
   "outputs": [
    {
     "ename": "NameError",
     "evalue": "name 'hahaha' is not defined",
     "output_type": "error",
     "traceback": [
      "\u001b[0;31m---------------------------------------------------------------------------\u001b[0m",
      "\u001b[0;31mNameError\u001b[0m                                 Traceback (most recent call last)",
      "Cell \u001b[0;32mIn[33], line 1\u001b[0m\n\u001b[0;32m----> 1\u001b[0m hahaha\u001b[38;5;241m.\u001b[39mupper(\u001b[38;5;124m'\u001b[39m\u001b[38;5;124mapple\u001b[39m\u001b[38;5;124m'\u001b[39m)\n",
      "\u001b[0;31mNameError\u001b[0m: name 'hahaha' is not defined"
     ]
    }
   ],
   "source": [
    "hahaha.upper('apple')"
   ]
  },
  {
   "cell_type": "markdown",
   "id": "910cd005-67ac-45ab-9691-22188e555b21",
   "metadata": {},
   "source": [
    "- This basically says: Use the upper function that belongs to hahaha & apply it to apple -> Python rejects by saying that apple does not take an argument"
   ]
  },
  {
   "cell_type": "markdown",
   "id": "a2aaf594-859c-4842-9454-5e0730f6a20e",
   "metadata": {},
   "source": [
    "Q&A:\n",
    "- You can override print because it is a function, but can't override for because it is the foundation of the language"
   ]
  }
 ],
 "metadata": {
  "kernelspec": {
   "display_name": "Python 3 (ipykernel)",
   "language": "python",
   "name": "python3"
  },
  "language_info": {
   "codemirror_mode": {
    "name": "ipython",
    "version": 3
   },
   "file_extension": ".py",
   "mimetype": "text/x-python",
   "name": "python",
   "nbconvert_exporter": "python",
   "pygments_lexer": "ipython3",
   "version": "3.11.5"
  },
  "toc": {
   "base_numbering": 1,
   "nav_menu": {},
   "number_sections": true,
   "sideBar": true,
   "skip_h1_title": false,
   "title_cell": "Table of Contents",
   "title_sidebar": "Contents",
   "toc_cell": false,
   "toc_position": {},
   "toc_section_display": true,
   "toc_window_display": false
  },
  "vscode": {
   "interpreter": {
    "hash": "31f2aee4e71d21fbe5cf8b01ff0e069b9275f58929596ceb00d14d90e3e16cd6"
   }
  }
 },
 "nbformat": 4,
 "nbformat_minor": 5
}
