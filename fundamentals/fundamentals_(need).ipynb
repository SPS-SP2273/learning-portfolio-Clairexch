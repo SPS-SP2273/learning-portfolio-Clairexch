{
 "cells": [
  {
   "cell_type": "markdown",
   "id": "123456",
   "metadata": {},
   "source": [
    "<div style=\"text-align:left;font-size:2em\"><span style=\"font-weight:bolder;font-size:1.25em\">SP2273 | Learning Portfolio</span><br><br><span style=\"font-weight:bold;color:darkred\">Fundamentals (Need)</span></div>"
   ]
  },
  {
   "cell_type": "code",
   "execution_count": 1,
   "id": "ea5ac924",
   "metadata": {},
   "outputs": [
    {
     "name": "stdout",
     "output_type": "stream",
     "text": [
      "Hello World\n"
     ]
    }
   ],
   "source": [
    "print('Hello World')"
   ]
  },
  {
   "cell_type": "markdown",
   "id": "04f6ec09",
   "metadata": {},
   "source": [
    "The *ships hung in the sky* in much the same way that **bricks don’t**.<sup>1</sup><sub>QUOTE</sub>"
   ]
  },
  {
   "cell_type": "markdown",
   "id": "0bd6a037",
   "metadata": {},
   "source": [
    "```python\n",
    "print('Hello World!\")\n",
    "```"
   ]
  },
  {
   "cell_type": "markdown",
   "id": "033185bf",
   "metadata": {},
   "source": [
    "[LINK TEXT](https://sps.nus.edu.sg/sp2273/docs/python_basics/01_using_jupyter/1_using-jupyter_need.html)"
   ]
  },
  {
   "cell_type": "markdown",
   "id": "fb9cdd5b",
   "metadata": {},
   "source": [
    "# 1 Functions"
   ]
  },
  {
   "cell_type": "code",
   "execution_count": null,
   "id": "ff640fbd-9466-4ea2-a436-e5eee84a4977",
   "metadata": {},
   "outputs": [],
   "source": [
    "print('Hello World')"
   ]
  },
  {
   "cell_type": "markdown",
   "id": "0acf8eef-ff5c-4ac2-9826-7bc1112bf711",
   "metadata": {},
   "source": [
    "- Colour of different sections of code differs between SP2273 website notes and in my Jupyter Notebook (AKA Syntax Highlighting) -> Can be changed\n",
    "- A function normally accepts an argument/feed it an input (kind of like black box that does something very specific)\n",
    "- Functions always have brackets\n",
    "- print is an e.g. of a function -> In this case, input is placed within the bracket"
   ]
  },
  {
   "cell_type": "markdown",
   "id": "b0af9001",
   "metadata": {},
   "source": [
    "# 2 Python is interpreted"
   ]
  },
  {
   "cell_type": "code",
   "execution_count": 3,
   "id": "44e73610-28d9-438b-bc39-d2c82cc32bd7",
   "metadata": {},
   "outputs": [
    {
     "name": "stdout",
     "output_type": "stream",
     "text": [
      "Hello World 1\n",
      "Hello World again 2\n",
      "Hello World\n",
      "Hello World again 3\n",
      "Hello World\n"
     ]
    }
   ],
   "source": [
    "print('Hello World 1')\n",
    "print('Hello World again 2')\n",
    "print('Hello World')\n",
    "print('Hello World again 3')\n",
    "print('Hello World')"
   ]
  },
  {
   "cell_type": "markdown",
   "id": "750ebe6d-420b-4ab2-ade5-fe67cc7dca58",
   "metadata": {},
   "source": [
    "- Python will run each line of code one by one, will run lines of code that it can run (An intepreted language)\n",
    "- Syntax error observed in this e.g. when bracket is omitted because of something else looking at the code, not Python!\n",
    "- VS A compile language like C++, if there's any mistake in any of the lines, it will not comply"
   ]
  },
  {
   "cell_type": "markdown",
   "id": "120ed34b",
   "metadata": {},
   "source": [
    "# 3 Python is sensitive."
   ]
  },
  {
   "cell_type": "code",
   "execution_count": 4,
   "id": "262fe9f6-b111-471a-a6b5-44b03912e81a",
   "metadata": {},
   "outputs": [
    {
     "name": "stdout",
     "output_type": "stream",
     "text": [
      "Hello World\n"
     ]
    },
    {
     "ename": "NameError",
     "evalue": "name 'Print' is not defined",
     "output_type": "error",
     "traceback": [
      "\u001b[0;31m---------------------------------------------------------------------------\u001b[0m",
      "\u001b[0;31mNameError\u001b[0m                                 Traceback (most recent call last)",
      "Cell \u001b[0;32mIn[4], line 2\u001b[0m\n\u001b[1;32m      1\u001b[0m \u001b[38;5;28mprint\u001b[39m(\u001b[38;5;124m'\u001b[39m\u001b[38;5;124mHello World\u001b[39m\u001b[38;5;124m'\u001b[39m)\n\u001b[0;32m----> 2\u001b[0m Print(\u001b[38;5;124m'\u001b[39m\u001b[38;5;124mHello World\u001b[39m\u001b[38;5;124m'\u001b[39m)\n",
      "\u001b[0;31mNameError\u001b[0m: name 'Print' is not defined"
     ]
    }
   ],
   "source": [
    "print('Hello World')\n",
    "Print('Hello World')"
   ]
  },
  {
   "cell_type": "markdown",
   "id": "d6fa75dd-fb15-498a-9a45-499da5fdd663",
   "metadata": {},
   "source": [
    "- Python (& other programming languages) are case sensitive"
   ]
  },
  {
   "cell_type": "markdown",
   "id": "3e57e9b9",
   "metadata": {},
   "source": [
    "# 4 Comments"
   ]
  },
  {
   "cell_type": "code",
   "execution_count": 5,
   "id": "e41975f4-d0ff-4338-be3c-e6525e878521",
   "metadata": {},
   "outputs": [
    {
     "name": "stdout",
     "output_type": "stream",
     "text": [
      "One\n",
      "Three\n"
     ]
    }
   ],
   "source": [
    "# This is a comment\n",
    "print('One')              # This is a comment.\n",
    "# print('Two')            # The interpreter ignores this line.\n",
    "print('Three')            # This is\n",
    "                          # also a way to\n",
    "                          # write comments"
   ]
  },
  {
   "cell_type": "code",
   "execution_count": 9,
   "id": "2dd8b8f0-3a9d-4666-9c25-1cfade39b6f5",
   "metadata": {},
   "outputs": [
    {
     "name": "stdout",
     "output_type": "stream",
     "text": [
      "Hello...\n",
      "World\n",
      "1\n",
      "2\n",
      "3\n"
     ]
    }
   ],
   "source": [
    "print('Hello...')\n",
    "print('World')  # Testing comment\n",
    "\n",
    "#--------------#\n",
    "#--------------\n",
    "print('1')\n",
    "print('2')\n",
    "print('3')"
   ]
  },
  {
   "cell_type": "markdown",
   "id": "895244e5-bc10-4c44-a667-c31c3420e262",
   "metadata": {},
   "source": [
    "- Can make comments to help you remember the purposes of your lines of code, especially when you return to them a few days later (More about why you writing that line not what you're doing)\n",
    "- Can also make comments to break up code to make it more readable but not encouraged"
   ]
  },
  {
   "cell_type": "code",
   "execution_count": 1,
   "id": "5b54db66-cb74-462c-831a-f411fc270e33",
   "metadata": {},
   "outputs": [
    {
     "data": {
      "text/plain": [
       "'\\nMultiline\\ncomments\\n.o.\\n'"
      ]
     },
     "execution_count": 1,
     "metadata": {},
     "output_type": "execute_result"
    }
   ],
   "source": [
    "\"\"\"\n",
    "Multiline\n",
    "comments\n",
    ".o.\n",
    "\"\"\""
   ]
  },
  {
   "cell_type": "markdown",
   "id": "c0abe3a8-208c-4572-a5de-462077d24787",
   "metadata": {},
   "source": [
    "- Above is a docstring (with the \"\"\") -> Can be used to write multiline comments but may not be great if you're doing Python seriously"
   ]
  },
  {
   "cell_type": "markdown",
   "id": "4085c578",
   "metadata": {},
   "source": [
    "# 5 = is not the same as =="
   ]
  },
  {
   "cell_type": "code",
   "execution_count": 2,
   "id": "e15dfdad-34bb-4482-9ab2-3c76b71e7551",
   "metadata": {},
   "outputs": [],
   "source": [
    "name = 'Batman'"
   ]
  },
  {
   "cell_type": "code",
   "execution_count": 3,
   "id": "1688c87f-b216-41e9-83d2-d5cdcabadb40",
   "metadata": {},
   "outputs": [
    {
     "data": {
      "text/plain": [
       "'Batman'"
      ]
     },
     "execution_count": 3,
     "metadata": {},
     "output_type": "execute_result"
    }
   ],
   "source": [
    "name"
   ]
  },
  {
   "cell_type": "code",
   "execution_count": 4,
   "id": "2e2141ae-1389-474c-9ded-89932f5f423b",
   "metadata": {},
   "outputs": [
    {
     "data": {
      "text/plain": [
       "True"
      ]
     },
     "execution_count": 4,
     "metadata": {},
     "output_type": "execute_result"
    }
   ],
   "source": [
    "name == 'Batman' "
   ]
  },
  {
   "cell_type": "markdown",
   "id": "120c63fa-5e93-41ac-8fef-8ec000bf2dc6",
   "metadata": {},
   "source": [
    "If you run name == 'Batman' before running name = 'Batman' will give name error cus name isn't defined"
   ]
  },
  {
   "cell_type": "markdown",
   "id": "d930c49b-4820-4ac5-813c-0c51b0396f66",
   "metadata": {},
   "source": [
    "- = makes something equal something\n",
    "- == is a question, in this e.g., it's asking if name is equal to Batman -> Will either get True or False"
   ]
  },
  {
   "cell_type": "code",
   "execution_count": 6,
   "id": "24d17046-51a8-4742-896a-c6fb2eae1677",
   "metadata": {},
   "outputs": [],
   "source": [
    "name = 'Robin' # Now, if you run code to ask if name is Batman, will get false"
   ]
  },
  {
   "cell_type": "markdown",
   "id": "ab3cb0ed",
   "metadata": {},
   "source": [
    "# 6 Use if to make decisions"
   ]
  },
  {
   "cell_type": "code",
   "execution_count": 11,
   "id": "ae118b96-4269-4038-b9f3-03f400a3f035",
   "metadata": {},
   "outputs": [
    {
     "name": "stdout",
     "output_type": "stream",
     "text": [
      "Hello Batman!\n",
      "Hello Batman!\n"
     ]
    }
   ],
   "source": [
    "name = 'Batman'\n",
    "\n",
    "if name == 'Batman':\n",
    "    print('Hello Batman!') # What is done when true\n",
    "    print('Hello Batman!') # If this line is removed, Hello Batman printed just once in this e.g.\n",
    "else:\n",
    "    print('Hello World!') # What's done when false\n",
    "    print('Hello World!') \n",
    "    print('Hello World!')"
   ]
  },
  {
   "cell_type": "markdown",
   "id": "697d91fd-7a49-4103-a869-826547a2dc08",
   "metadata": {},
   "source": [
    "- Block of code is distinguished by an indent -> Indents matter in Python\n",
    "- Colons (:) tells you when the block starts"
   ]
  },
  {
   "cell_type": "code",
   "execution_count": 8,
   "id": "f32c5bd8-5395-44d3-8708-1d6e8571d052",
   "metadata": {},
   "outputs": [
    {
     "ename": "SyntaxError",
     "evalue": "invalid syntax. Maybe you meant '==' or ':=' instead of '='? (1734495519.py, line 3)",
     "output_type": "error",
     "traceback": [
      "\u001b[0;36m  Cell \u001b[0;32mIn[8], line 3\u001b[0;36m\u001b[0m\n\u001b[0;31m    if name = 'Batman':\u001b[0m\n\u001b[0m       ^\u001b[0m\n\u001b[0;31mSyntaxError\u001b[0m\u001b[0;31m:\u001b[0m invalid syntax. Maybe you meant '==' or ':=' instead of '='?\n"
     ]
    }
   ],
   "source": [
    "name = 'Batman'\n",
    "\n",
    "if name = 'Batman':\n",
    "    print('Hello Batman!')\n",
    "else:\n",
    "    print('Hello World!')"
   ]
  },
  {
   "cell_type": "markdown",
   "id": "07c44a61-723d-4e03-9f1c-b609bd98b396",
   "metadata": {},
   "source": [
    "- Decisions are one of the most important structure in any programming language -> Programming languages won't work if can't make a decision depending on a condition\n",
    "- If you define another variable elsewhere, will affect your code elsewhere in the same file -> Normally, you run the whole Python script in one go using the terminal"
   ]
  },
  {
   "cell_type": "markdown",
   "id": "0ad2c5b8",
   "metadata": {},
   "source": [
    "# 7 Indentations (spaces) are sooo IMPORTANT!"
   ]
  },
  {
   "cell_type": "code",
   "execution_count": 14,
   "id": "770d38e2-8078-437a-a582-8c5b881e654b",
   "metadata": {},
   "outputs": [
    {
     "name": "stdout",
     "output_type": "stream",
     "text": [
      "10\n"
     ]
    }
   ],
   "source": [
    "    x = 10\n",
    "    print(x)"
   ]
  },
  {
   "cell_type": "markdown",
   "id": "4f8ae85b-e7ec-4bb9-a477-bb813e586c30",
   "metadata": {},
   "source": [
    "- If only 1 line of the code above is indented (using tab button), code won't run\n",
    "- If both lines of code are aligned, even if there are spaces or indents in front, will still run\n",
    "- Best to stick with using tab instead of space button"
   ]
  },
  {
   "cell_type": "markdown",
   "id": "57e677ec",
   "metadata": {},
   "source": [
    "# 8 ‘age’ is English, age is a variable."
   ]
  },
  {
   "cell_type": "code",
   "execution_count": null,
   "id": "0f8b3adb-76bd-4f1e-8d50-ec0e405054e1",
   "metadata": {},
   "outputs": [],
   "source": [
    "print(age)       # Print the value of the variable age\n",
    "print(\"age\")     # Print the English word 'age'"
   ]
  },
  {
   "cell_type": "markdown",
   "id": "1dd4a3b0-3ff9-4ffc-ac76-fc0cd4ef7097",
   "metadata": {},
   "source": [
    "- English words are usually a different colour from variables"
   ]
  },
  {
   "cell_type": "markdown",
   "id": "b06f7887",
   "metadata": {},
   "source": [
    "# 9 Brackets"
   ]
  },
  {
   "cell_type": "markdown",
   "id": "8c33fff9",
   "metadata": {},
   "source": [
    "# 10 Giving Python superpowers with Packages"
   ]
  },
  {
   "cell_type": "markdown",
   "id": "c52fbb65",
   "metadata": {},
   "source": [
    "## 10.1 Some Context"
   ]
  },
  {
   "cell_type": "markdown",
   "id": "bc991cea",
   "metadata": {},
   "source": [
    "## 10.2 Importing the math package"
   ]
  },
  {
   "cell_type": "markdown",
   "id": "16b5c12b",
   "metadata": {},
   "source": [
    "## 10.3 Importing the numpy package"
   ]
  },
  {
   "cell_type": "markdown",
   "id": "e274f760",
   "metadata": {},
   "source": [
    "## 10.4 Why so many packages?"
   ]
  },
  {
   "cell_type": "markdown",
   "id": "7aaa661e",
   "metadata": {},
   "source": [
    "# 11 The dot (.)"
   ]
  },
  {
   "cell_type": "markdown",
   "id": "fd80eac8",
   "metadata": {},
   "source": [
    "## Footnotes"
   ]
  }
 ],
 "metadata": {
  "kernelspec": {
   "display_name": "Python 3 (ipykernel)",
   "language": "python",
   "name": "python3"
  },
  "language_info": {
   "codemirror_mode": {
    "name": "ipython",
    "version": 3
   },
   "file_extension": ".py",
   "mimetype": "text/x-python",
   "name": "python",
   "nbconvert_exporter": "python",
   "pygments_lexer": "ipython3",
   "version": "3.11.5"
  },
  "toc": {
   "base_numbering": 1,
   "nav_menu": {},
   "number_sections": true,
   "sideBar": true,
   "skip_h1_title": false,
   "title_cell": "Table of Contents",
   "title_sidebar": "Contents",
   "toc_cell": false,
   "toc_position": {},
   "toc_section_display": true,
   "toc_window_display": false
  },
  "vscode": {
   "interpreter": {
    "hash": "31f2aee4e71d21fbe5cf8b01ff0e069b9275f58929596ceb00d14d90e3e16cd6"
   }
  }
 },
 "nbformat": 4,
 "nbformat_minor": 5
}
