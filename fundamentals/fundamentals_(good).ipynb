{
 "cells": [
  {
   "attachments": {},
   "cell_type": "markdown",
   "id": "123456",
   "metadata": {},
   "source": [
    "<div style=\"text-align:left;font-size:2em\"><span style=\"font-weight:bolder;font-size:1.25em\">SP2273 | Learning Portfolio</span><br><br><span style=\"font-weight:bold;color:darkred\">Fundamentals (Good)</span></div>"
   ]
  },
  {
   "attachments": {},
   "cell_type": "markdown",
   "id": "1fe79bc0",
   "metadata": {},
   "source": [
    "# 1 There is more to if"
   ]
  },
  {
   "cell_type": "markdown",
   "id": "5a5e423f-31fc-4adc-b186-7098c6a4d4d8",
   "metadata": {},
   "source": [
    "- To select multiple things at the same time, press: command and then click what you want to select"
   ]
  },
  {
   "cell_type": "code",
   "execution_count": null,
   "id": "bbb50efc-9f03-457a-aa54-f821975f7965",
   "metadata": {},
   "outputs": [],
   "source": [
    "name = 'Batman'\n",
    "\n",
    "if name == 'Batman':\n",
    "    print('Hello Batman!')\n",
    "elif name == 'Robin':\n",
    "    print('Hello Sidekick!')\n",
    "else:\n",
    "    print('Hello World!')"
   ]
  },
  {
   "cell_type": "markdown",
   "id": "1845f96e-f2dd-467d-9388-d6f9223a8477",
   "metadata": {},
   "source": [
    "- elif lets you have other options in your code"
   ]
  },
  {
   "cell_type": "code",
   "execution_count": null,
   "id": "f79b5262-02bb-43f8-8e75-d1f5e9cf51bf",
   "metadata": {},
   "outputs": [],
   "source": [
    "name = 'Batman'\n",
    "\n",
    "if name == 'Batman':\n",
    "    print('Hello Batman!')\n",
    "elif name == 'Robin':\n",
    "    print('Hello Sidekick!')  # Can have multiple elif blocks but may not make a good program\n",
    "elif name == 'Julia':\n",
    "    print('Hello Julia!')\n",
    "elif name == 'Guten Morgan':\n",
    "    print('Guten Morgan!')\n",
    "else:\n",
    "    print('Hello World!')"
   ]
  },
  {
   "cell_type": "markdown",
   "id": "c6506947-8e89-4892-9a0b-6e3784b8ae08",
   "metadata": {},
   "source": [
    "- If have a lot of conditions, don't want to have 100s of lines of code\n",
    "- Can use a switch statement instead\n",
    "- But elif is a good starting point to have more options"
   ]
  },
  {
   "attachments": {},
   "cell_type": "markdown",
   "id": "7dfca129",
   "metadata": {},
   "source": [
    "# 2 Asking questions"
   ]
  },
  {
   "cell_type": "code",
   "execution_count": 1,
   "id": "d00575b8-927b-40ba-830c-115a510a8e63",
   "metadata": {},
   "outputs": [],
   "source": [
    "fruits = ['apple', 'banana', 'pineapple', 'jackfruit']\n",
    "vegetables = ['celery', 'potato', 'broccoli', 'kale']"
   ]
  },
  {
   "cell_type": "code",
   "execution_count": 2,
   "id": "1b9de880-bc1c-4d5c-9cf7-e71673ea1504",
   "metadata": {},
   "outputs": [
    {
     "data": {
      "text/plain": [
       "True"
      ]
     },
     "execution_count": 2,
     "metadata": {},
     "output_type": "execute_result"
    }
   ],
   "source": [
    "'apple' in fruits"
   ]
  },
  {
   "cell_type": "markdown",
   "id": "d83b4058-7ccf-42c1-9abf-427722d60e18",
   "metadata": {},
   "source": [
    "- Code above is asking if apple is in the list of fruits"
   ]
  },
  {
   "cell_type": "code",
   "execution_count": 3,
   "id": "b4688a97-1d05-4da4-82cd-201a43d261b9",
   "metadata": {},
   "outputs": [
    {
     "data": {
      "text/plain": [
       "False"
      ]
     },
     "execution_count": 3,
     "metadata": {},
     "output_type": "execute_result"
    }
   ],
   "source": [
    "'peach' in fruits"
   ]
  },
  {
   "cell_type": "code",
   "execution_count": 4,
   "id": "c3cb83fb-1e43-4b6b-8422-0d37c27a3a05",
   "metadata": {},
   "outputs": [
    {
     "data": {
      "text/plain": [
       "True"
      ]
     },
     "execution_count": 4,
     "metadata": {},
     "output_type": "execute_result"
    }
   ],
   "source": [
    "'peach' not in fruits"
   ]
  },
  {
   "cell_type": "code",
   "execution_count": 5,
   "id": "8ef3703a-f36d-4a3a-a15b-780ccfea0467",
   "metadata": {},
   "outputs": [
    {
     "data": {
      "text/plain": [
       "True"
      ]
     },
     "execution_count": 5,
     "metadata": {},
     "output_type": "execute_result"
    }
   ],
   "source": [
    "'a' in 'apple'"
   ]
  },
  {
   "cell_type": "markdown",
   "id": "8a902e82-e9c1-4f95-829b-a21926067a7a",
   "metadata": {},
   "source": [
    "- This can be used to see if certain letters are in apple\n",
    "- But also remember it's case sensitive"
   ]
  },
  {
   "cell_type": "code",
   "execution_count": 6,
   "id": "70a1d4e3-4a05-41a3-8de8-6d0a520ee3c5",
   "metadata": {},
   "outputs": [
    {
     "data": {
      "text/plain": [
       "True"
      ]
     },
     "execution_count": 6,
     "metadata": {},
     "output_type": "execute_result"
    }
   ],
   "source": [
    "('apple' in fruits) and ('celery' in vegetables)"
   ]
  },
  {
   "cell_type": "markdown",
   "id": "7b3255a9-3c4a-4328-b818-c78a9fa17793",
   "metadata": {},
   "source": [
    "- Can combine things using and\n",
    "- But and works only if both conditions are true"
   ]
  },
  {
   "cell_type": "code",
   "execution_count": null,
   "id": "c972622e-d876-4753-8e35-e2e7d573ba60",
   "metadata": {},
   "outputs": [],
   "source": [
    "('apple' in fruits) or ('celery' in vegetables)"
   ]
  },
  {
   "cell_type": "markdown",
   "id": "20563c8f-8758-490e-89cb-6bcd57aa2498",
   "metadata": {},
   "source": [
    "- or works if either statement is true\n",
    "- This is a logical statement\n",
    "- in, and, or is very powerful because it allows you to ask questions/check things "
   ]
  },
  {
   "cell_type": "code",
   "execution_count": 7,
   "id": "76f3119d-0ddf-41b7-8ea6-2ccff37ef67b",
   "metadata": {},
   "outputs": [
    {
     "ename": "TypeError",
     "evalue": "'>' not supported between instances of 'str' and 'int'",
     "output_type": "error",
     "traceback": [
      "\u001b[0;31m---------------------------------------------------------------------------\u001b[0m",
      "\u001b[0;31mTypeError\u001b[0m                                 Traceback (most recent call last)",
      "Cell \u001b[0;32mIn[7], line 1\u001b[0m\n\u001b[0;32m----> 1\u001b[0m \u001b[38;5;124m'\u001b[39m\u001b[38;5;124ma\u001b[39m\u001b[38;5;124m'\u001b[39m \u001b[38;5;241m>\u001b[39m \u001b[38;5;241m10\u001b[39m\n",
      "\u001b[0;31mTypeError\u001b[0m: '>' not supported between instances of 'str' and 'int'"
     ]
    }
   ],
   "source": [
    "'a' > 10"
   ]
  },
  {
   "cell_type": "markdown",
   "id": "7006fa0c-6175-4603-8368-a26f898a4965",
   "metadata": {},
   "source": [
    "- Can't compare english letters & numbers"
   ]
  },
  {
   "cell_type": "code",
   "execution_count": 8,
   "id": "de00db7a-f58a-443a-86c6-56bf8f56f19b",
   "metadata": {},
   "outputs": [
    {
     "data": {
      "text/plain": [
       "False"
      ]
     },
     "execution_count": 8,
     "metadata": {},
     "output_type": "execute_result"
    }
   ],
   "source": [
    "'apple' > 'orange'"
   ]
  },
  {
   "cell_type": "markdown",
   "id": "4cad1e27-2f85-4a42-bc16-adb0980108a5",
   "metadata": {},
   "source": [
    "- Can compare 2 things of the same type, e.g. english letters with english letters\n",
    "- Python sees each letter as a number, it compares that number & tells you which is bigger -> By design, not a math truism -> Because the person who wrote the Python string/class defined a comparison operator -> It does this by taking the 1st letter & comparing"
   ]
  },
  {
   "attachments": {},
   "cell_type": "markdown",
   "id": "616f0168",
   "metadata": {},
   "source": [
    "# 3 Asking Math questions"
   ]
  },
  {
   "cell_type": "code",
   "execution_count": 9,
   "id": "b30056a7-8565-4c06-ae24-f78963c87f42",
   "metadata": {},
   "outputs": [
    {
     "data": {
      "text/plain": [
       "True"
      ]
     },
     "execution_count": 9,
     "metadata": {},
     "output_type": "execute_result"
    }
   ],
   "source": [
    "10 >= 3"
   ]
  },
  {
   "cell_type": "code",
   "execution_count": 10,
   "id": "b106da77-0fbc-41c3-8e6d-75222411e3ea",
   "metadata": {},
   "outputs": [],
   "source": [
    "x=3"
   ]
  },
  {
   "cell_type": "code",
   "execution_count": 11,
   "id": "5df12e3b-dace-45ab-95b0-552cf38cdf36",
   "metadata": {},
   "outputs": [
    {
     "data": {
      "text/plain": [
       "False"
      ]
     },
     "execution_count": 11,
     "metadata": {},
     "output_type": "execute_result"
    }
   ],
   "source": [
    "x > 5 and x < 15"
   ]
  },
  {
   "cell_type": "markdown",
   "id": "ec60dace-935e-4250-97d2-3a3b6572a0c3",
   "metadata": {},
   "source": [
    "- Can combine multiple comparisons"
   ]
  },
  {
   "cell_type": "code",
   "execution_count": null,
   "id": "7e8e6e3a-79ab-4119-b657-dc500ef8cc5a",
   "metadata": {},
   "outputs": [],
   "source": [
    "(x > 5) and (x < 15)"
   ]
  },
  {
   "cell_type": "markdown",
   "id": "ba255e3a-dc38-41a6-a83a-14895ec459e9",
   "metadata": {},
   "source": [
    "- More readable because use brackets, Python doesn't really care about brackets in this case"
   ]
  },
  {
   "cell_type": "code",
   "execution_count": 12,
   "id": "1756c896-ac00-4134-bf73-a5852c130bf9",
   "metadata": {},
   "outputs": [
    {
     "data": {
      "text/plain": [
       "False"
      ]
     },
     "execution_count": 12,
     "metadata": {},
     "output_type": "execute_result"
    }
   ],
   "source": [
    "5 <= x < 15  # Only in Python"
   ]
  },
  {
   "attachments": {},
   "cell_type": "markdown",
   "id": "b7f2f58c",
   "metadata": {},
   "source": [
    "# 4 Python stores information in different formats or types"
   ]
  },
  {
   "cell_type": "code",
   "execution_count": 13,
   "id": "5c402c6c-fb78-448e-b4b3-332a912eb609",
   "metadata": {},
   "outputs": [
    {
     "name": "stdout",
     "output_type": "stream",
     "text": [
      "1 <class 'int'>\n"
     ]
    }
   ],
   "source": [
    "x = int(1.234) # A float is a function/reusable code that converts values into numbers with decimal places -> x becomes 1\n",
    "print(x, type(x))"
   ]
  },
  {
   "cell_type": "markdown",
   "id": "797f8973-1d69-4e4f-9352-27842ed420a4",
   "metadata": {},
   "source": [
    "- Casting of x to a type (e.g. int, float etc) is called typecasting\n",
    "- Output is basically saying that x is 1 & is now stored as an integer, also shows you what type of variable it is "
   ]
  },
  {
   "cell_type": "code",
   "execution_count": 14,
   "id": "7de12312-dad7-42cc-8e28-07e1c7091d29",
   "metadata": {},
   "outputs": [
    {
     "name": "stdout",
     "output_type": "stream",
     "text": [
      "1.234 <class 'str'>\n"
     ]
    }
   ],
   "source": [
    "x = str(1.234)\n",
    "print(x, type(x))"
   ]
  },
  {
   "cell_type": "markdown",
   "id": "74609cb2-5e21-48c7-9171-95c33b431c67",
   "metadata": {},
   "source": [
    "- 1.234 is English in this case, not a number -> It's a string plus\n",
    "- Can't do comparisons with this"
   ]
  },
  {
   "cell_type": "code",
   "execution_count": 15,
   "id": "86ae1d7b-8538-43ab-b37f-1537abb8b270",
   "metadata": {},
   "outputs": [
    {
     "name": "stdout",
     "output_type": "stream",
     "text": [
      "1.234 <class 'float'>\n"
     ]
    }
   ],
   "source": [
    "x = float(1.234)\n",
    "print(x, type(x))"
   ]
  },
  {
   "cell_type": "code",
   "execution_count": 16,
   "id": "7b3a7dd5-ed41-4580-9fb6-0d1186250099",
   "metadata": {},
   "outputs": [
    {
     "name": "stdout",
     "output_type": "stream",
     "text": [
      "(1.234+0j) <class 'complex'>\n"
     ]
    }
   ],
   "source": [
    "x = complex(1.234)\n",
    "print(x, type(x))"
   ]
  },
  {
   "cell_type": "markdown",
   "id": "553a17cb-a771-4156-9975-b80557a64b6b",
   "metadata": {},
   "source": [
    "- Computer languages all have different types of variables that are stored differently -> For speed, efficiency & because computer has finite resources (can't remember billions of decimals)\n",
    "- Even int & float have subdivisions, e.g. can have 16, 32 or 64 bit integers -> Limits number space you have -> To maximise use of your computer\n",
    "- Don't use largest number possible for every number we use because it wastes resources\n",
    "- Can figure out type of variable by using the function type"
   ]
  },
  {
   "attachments": {},
   "cell_type": "markdown",
   "id": "04ed4ec8",
   "metadata": {},
   "source": [
    "# 5 Never compare floats directly"
   ]
  },
  {
   "cell_type": "markdown",
   "id": "6c61274f-4344-43a3-a601-79b77831df07",
   "metadata": {},
   "source": [
    "## 5.1 The Problem"
   ]
  },
  {
   "cell_type": "code",
   "execution_count": 17,
   "id": "79885325-320f-4ef3-b02d-89780aae40a7",
   "metadata": {},
   "outputs": [
    {
     "data": {
      "text/plain": [
       "False"
      ]
     },
     "execution_count": 17,
     "metadata": {},
     "output_type": "execute_result"
    }
   ],
   "source": [
    "a = 0.1\n",
    "a3 = 0.3\n",
    "a * 3 == a3"
   ]
  },
  {
   "cell_type": "markdown",
   "id": "3f2e2c01-03a3-483f-a85e-63e3dda4b805",
   "metadata": {},
   "source": [
    "- If you multiple 0.1 (a) by 3, you should get 0.3, so by right, code should give you true\n",
    "- This is cus 0.3 is not stored 0.3 -> Cus computer has limited precision\n",
    "- This is a problem particularly for floats with decimal places\n",
    "- So NEVER ever compare decimals"
   ]
  },
  {
   "cell_type": "code",
   "execution_count": 18,
   "id": "1277a4e4-8b84-4eaf-969b-0fcf44b5b927",
   "metadata": {},
   "outputs": [
    {
     "data": {
      "text/plain": [
       "'0.29999999999999999'"
      ]
     },
     "execution_count": 18,
     "metadata": {},
     "output_type": "execute_result"
    }
   ],
   "source": [
    "f'{0.3:.17f}'"
   ]
  },
  {
   "cell_type": "markdown",
   "id": "968066e0-ec04-4693-a9ae-493e5febfe08",
   "metadata": {},
   "source": [
    "- Above asks Python to print 0.3 to 17 decimal places"
   ]
  },
  {
   "attachments": {},
   "cell_type": "markdown",
   "id": "4ee1e529",
   "metadata": {},
   "source": [
    "## 5.2 A solution"
   ]
  },
  {
   "cell_type": "code",
   "execution_count": 19,
   "id": "8ca04e89-5064-4ae2-80a0-189611ac9472",
   "metadata": {},
   "outputs": [
    {
     "data": {
      "text/plain": [
       "5.551115123125783e-17"
      ]
     },
     "execution_count": 19,
     "metadata": {},
     "output_type": "execute_result"
    }
   ],
   "source": [
    "a*3 -a3"
   ]
  },
  {
   "cell_type": "markdown",
   "id": "d8125031-4fa3-4636-a8bc-0726fbe90094",
   "metadata": {},
   "source": [
    "- By right should be 0 but get absurdly small number instead\n",
    "- To check if something is equal, ask how close it is to that number -> Basically can compare it to see if the difference is less than a really small number\n",
    "- For even more precise calculations, can go even higher (e.g. 1E-20)"
   ]
  },
  {
   "cell_type": "code",
   "execution_count": 20,
   "id": "6b1f7e54-ab29-4c80-b81e-6ab611d99906",
   "metadata": {},
   "outputs": [
    {
     "data": {
      "text/plain": [
       "True"
      ]
     },
     "execution_count": 20,
     "metadata": {},
     "output_type": "execute_result"
    }
   ],
   "source": [
    "(a*3 - a3) < 1E-10"
   ]
  },
  {
   "cell_type": "code",
   "execution_count": 21,
   "id": "b43533cd-b0a8-4122-9276-c1c2c4d377c4",
   "metadata": {},
   "outputs": [
    {
     "data": {
      "text/plain": [
       "5.551115123125783e-17"
      ]
     },
     "execution_count": 21,
     "metadata": {},
     "output_type": "execute_result"
    }
   ],
   "source": [
    "(a*3 - a3)"
   ]
  },
  {
   "cell_type": "code",
   "execution_count": 22,
   "id": "3e2fbe33-9957-42c3-835e-4875a986efa2",
   "metadata": {},
   "outputs": [
    {
     "data": {
      "text/plain": [
       "-5.551115123125783e-17"
      ]
     },
     "execution_count": 22,
     "metadata": {},
     "output_type": "execute_result"
    }
   ],
   "source": [
    "(a3 - a*3)"
   ]
  },
  {
   "cell_type": "markdown",
   "id": "f418de4f-c0a6-439b-8451-4d6fecdff44e",
   "metadata": {},
   "source": [
    "- Depending on your order of a3 & a*3, may get -ve/+ve number -> But mainly interested in absolute number\n",
    "- So can put abs in front"
   ]
  },
  {
   "cell_type": "code",
   "execution_count": 23,
   "id": "87e8a7ea-528f-4bae-9f65-889f260a311a",
   "metadata": {},
   "outputs": [
    {
     "data": {
      "text/plain": [
       "True"
      ]
     },
     "execution_count": 23,
     "metadata": {},
     "output_type": "execute_result"
    }
   ],
   "source": [
    "abs(a3 - a*3) < 1E-10"
   ]
  },
  {
   "cell_type": "code",
   "execution_count": 24,
   "id": "d27054a0-baea-4245-8ada-4147d514768c",
   "metadata": {},
   "outputs": [
    {
     "ename": "NameError",
     "evalue": "name 'np' is not defined",
     "output_type": "error",
     "traceback": [
      "\u001b[0;31m---------------------------------------------------------------------------\u001b[0m",
      "\u001b[0;31mNameError\u001b[0m                                 Traceback (most recent call last)",
      "Cell \u001b[0;32mIn[24], line 1\u001b[0m\n\u001b[0;32m----> 1\u001b[0m np\u001b[38;5;241m.\u001b[39misclose(a \u001b[38;5;241m*\u001b[39m \u001b[38;5;241m3\u001b[39m, a3)\n",
      "\u001b[0;31mNameError\u001b[0m: name 'np' is not defined"
     ]
    }
   ],
   "source": [
    "np.isclose(a * 3, a3) "
   ]
  },
  {
   "cell_type": "markdown",
   "id": "50621e70-3222-4369-b4b4-8a28f5f6eb1e",
   "metadata": {},
   "source": [
    "- numpy has a function for absolute number but need to import numpy package again for it to work"
   ]
  },
  {
   "attachments": {},
   "cell_type": "markdown",
   "id": "bd21faf7",
   "metadata": {},
   "source": [
    "# 6 Combining English and variables"
   ]
  },
  {
   "cell_type": "markdown",
   "id": "94bea729-f9d7-44de-acd4-e3e870d6815d",
   "metadata": {},
   "source": [
    "- There are times where you'll want to combine variables with English text (E.g. creating files automatically)"
   ]
  },
  {
   "attachments": {},
   "cell_type": "markdown",
   "id": "e9d79e92",
   "metadata": {},
   "source": [
    "## 6.1 Structure of f-strings"
   ]
  },
  {
   "cell_type": "code",
   "execution_count": null,
   "id": "d3010599-8ed7-4553-96d0-00ab82434f2b",
   "metadata": {},
   "outputs": [],
   "source": [
    "### "
   ]
  },
  {
   "cell_type": "code",
   "execution_count": null,
   "id": "58a61913-9700-4ab0-b024-b0c77e99125c",
   "metadata": {},
   "outputs": [],
   "source": [
    "name = \"Batman\"\n",
    "print(f\"Hello {name}!\")"
   ]
  },
  {
   "cell_type": "code",
   "execution_count": null,
   "id": "44699c22-726f-42a4-8ee2-d52251d2ff44",
   "metadata": {},
   "outputs": [],
   "source": [
    "### Example 2"
   ]
  },
  {
   "cell_type": "code",
   "execution_count": null,
   "id": "99624484-cfb6-4501-b5c2-5c87f5016bab",
   "metadata": {},
   "outputs": [],
   "source": [
    "name = \"Batman\"\n",
    "print(f\"Hello {name.upper()}!\")"
   ]
  },
  {
   "cell_type": "markdown",
   "id": "cd5eab65-678e-44ec-b7a3-cf9192d0c836",
   "metadata": {},
   "source": [
    "### Example 3"
   ]
  },
  {
   "cell_type": "code",
   "execution_count": null,
   "id": "f869074a-a0c8-4371-901c-98ed97dd0ab6",
   "metadata": {},
   "outputs": [],
   "source": [
    "x = 10\n",
    "print(f\"The value of {x} squared is {x**2}!\")"
   ]
  },
  {
   "attachments": {},
   "cell_type": "markdown",
   "id": "bd632546",
   "metadata": {},
   "source": [
    "# 7 Escape sequences"
   ]
  },
  {
   "attachments": {},
   "cell_type": "markdown",
   "id": "1a104dc8",
   "metadata": {},
   "source": [
    "# 8 Computers read = from Right to Left!"
   ]
  },
  {
   "attachments": {},
   "cell_type": "markdown",
   "id": "2ff52529",
   "metadata": {},
   "source": [
    "# 9 Shorter and Cleaner Code"
   ]
  },
  {
   "attachments": {},
   "cell_type": "markdown",
   "id": "28d80c31",
   "metadata": {},
   "source": [
    "# 10 Python can be a prima-donna."
   ]
  },
  {
   "attachments": {},
   "cell_type": "markdown",
   "id": "d8bdf7b7",
   "metadata": {},
   "source": [
    "# 11 Best Practices for Scientific Computing"
   ]
  },
  {
   "attachments": {},
   "cell_type": "markdown",
   "id": "7eee69d5",
   "metadata": {},
   "source": [
    "# 12 Looking for help"
   ]
  },
  {
   "attachments": {},
   "cell_type": "markdown",
   "id": "85eb6688",
   "metadata": {},
   "source": [
    "## References"
   ]
  },
  {
   "attachments": {},
   "cell_type": "markdown",
   "id": "6c1cc82b",
   "metadata": {},
   "source": [
    "## Footnotes"
   ]
  }
 ],
 "metadata": {
  "kernelspec": {
   "display_name": "Python 3 (ipykernel)",
   "language": "python",
   "name": "python3"
  },
  "language_info": {
   "codemirror_mode": {
    "name": "ipython",
    "version": 3
   },
   "file_extension": ".py",
   "mimetype": "text/x-python",
   "name": "python",
   "nbconvert_exporter": "python",
   "pygments_lexer": "ipython3",
   "version": "3.11.5"
  },
  "toc": {
   "base_numbering": 1,
   "nav_menu": {},
   "number_sections": true,
   "sideBar": true,
   "skip_h1_title": false,
   "title_cell": "Table of Contents",
   "title_sidebar": "Contents",
   "toc_cell": false,
   "toc_position": {},
   "toc_section_display": true,
   "toc_window_display": false
  },
  "vscode": {
   "interpreter": {
    "hash": "31f2aee4e71d21fbe5cf8b01ff0e069b9275f58929596ceb00d14d90e3e16cd6"
   }
  }
 },
 "nbformat": 4,
 "nbformat_minor": 5
}
