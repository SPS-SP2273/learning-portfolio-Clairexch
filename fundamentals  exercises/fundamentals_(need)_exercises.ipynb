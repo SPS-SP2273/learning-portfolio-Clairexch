{
 "cells": [
  {
   "attachments": {},
   "cell_type": "markdown",
   "id": "123456",
   "metadata": {},
   "source": [
    "<div style=\"text-align:left;font-size:2em\"><span style=\"font-weight:bolder;font-size:1.25em\">SP2273 | Learning Portfolio</span><br><br><span style=\"font-weight:bold;color:darkred\">Fundamentals (Need) Exercises</span></div>"
   ]
  },
  {
   "cell_type": "markdown",
   "id": "036bfef9-b220-467d-ac8e-a121449b9484",
   "metadata": {},
   "source": [
    "## Exercise 1 "
   ]
  },
  {
   "cell_type": "markdown",
   "id": "23201e87-cfbe-435c-bf40-195f924390e2",
   "metadata": {},
   "source": [
    "- Python is sensitive (Upper and lower case matters)\n",
    "- Indentations matter\n",
    "- 'age' is English but age is a variable (Also be consistent with whether you use ' or \")\n",
    "- Python can have more features when you import packages (E.g. math or numpy)\n",
    "- Comments can be used to help you understand code by using #\n",
    "- *Functions: It is ‘something’ that does a specific task* \n",
    "- *Python is interpreted*\n",
    "- *= is not the same as ==*\n",
    "- *Use if to make decisions*\n",
    "- *Brackets: (), [], {}*\n",
    "- *The dot (.)*"
   ]
  },
  {
   "cell_type": "markdown",
   "id": "600331ee-b55f-418b-a5f8-6a41d8530fff",
   "metadata": {},
   "source": [
    "## Exercise 2"
   ]
  },
  {
   "cell_type": "code",
   "execution_count": 2,
   "id": "fa4f9424-1ef4-49ea-85b5-8d022993524b",
   "metadata": {},
   "outputs": [
    {
     "ename": "IndentationError",
     "evalue": "unindent does not match any outer indentation level (<tokenize>, line 3)",
     "output_type": "error",
     "traceback": [
      "\u001b[0;36m  File \u001b[0;32m<tokenize>:3\u001b[0;36m\u001b[0m\n\u001b[0;31m    Print(x, y, z)\u001b[0m\n\u001b[0m    ^\u001b[0m\n\u001b[0;31mIndentationError\u001b[0m\u001b[0;31m:\u001b[0m unindent does not match any outer indentation level\n"
     ]
    }
   ],
   "source": [
    "x, y = 3, 4\n",
    "        z = sqrt(x*2 + y**2)\n",
    "print(x, y, z)"
   ]
  },
  {
   "cell_type": "markdown",
   "id": "9e8fb20d-9227-4548-9928-fe9cdbc645d5",
   "metadata": {},
   "source": [
    "## Exercise 3"
   ]
  },
  {
   "cell_type": "markdown",
   "id": "562a5b90-cb92-4e4e-9188-e7985fd0a003",
   "metadata": {},
   "source": []
  },
  {
   "cell_type": "markdown",
   "id": "0938c28b-bd14-4959-bcd0-52fd3e5038b4",
   "metadata": {},
   "source": [
    "## Exercise 4"
   ]
  },
  {
   "cell_type": "code",
   "execution_count": 5,
   "id": "e210f042-32d5-404c-a90f-b79628241fb6",
   "metadata": {},
   "outputs": [
    {
     "data": {
      "text/plain": [
       "2.5"
      ]
     },
     "execution_count": 5,
     "metadata": {},
     "output_type": "execute_result"
    }
   ],
   "source": [
    "5/2           # Will give decimal place, no rounding off"
   ]
  },
  {
   "cell_type": "code",
   "execution_count": 10,
   "id": "01caacad-9524-4b6c-a38e-b3ae85c5069b",
   "metadata": {},
   "outputs": [
    {
     "data": {
      "text/plain": [
       "54.166666666666664"
      ]
     },
     "execution_count": 10,
     "metadata": {},
     "output_type": "execute_result"
    }
   ],
   "source": [
    "325/6"
   ]
  },
  {
   "cell_type": "code",
   "execution_count": 4,
   "id": "302fb7eb-1795-4ac7-8ace-352a60e9f559",
   "metadata": {},
   "outputs": [
    {
     "data": {
      "text/plain": [
       "2"
      ]
     },
     "execution_count": 4,
     "metadata": {},
     "output_type": "execute_result"
    }
   ],
   "source": [
    "5//2          # Will always round down to the nearest whole number even if it is anything above a _.5"
   ]
  },
  {
   "cell_type": "code",
   "execution_count": 7,
   "id": "ecdaed86-a07c-44ed-b42a-0e7e278f84a1",
   "metadata": {},
   "outputs": [
    {
     "data": {
      "text/plain": [
       "1"
      ]
     },
     "execution_count": 7,
     "metadata": {},
     "output_type": "execute_result"
    }
   ],
   "source": [
    "6//5"
   ]
  },
  {
   "cell_type": "code",
   "execution_count": 8,
   "id": "8b8b1d66-f122-400c-9db8-342e516f1c02",
   "metadata": {},
   "outputs": [
    {
     "data": {
      "text/plain": [
       "3.0"
      ]
     },
     "execution_count": 8,
     "metadata": {},
     "output_type": "execute_result"
    }
   ],
   "source": [
    "18//5.3"
   ]
  },
  {
   "cell_type": "code",
   "execution_count": 9,
   "id": "64a2d31c-5417-4af0-ac74-9272e1ac33ce",
   "metadata": {},
   "outputs": [
    {
     "data": {
      "text/plain": [
       "4.0"
      ]
     },
     "execution_count": 9,
     "metadata": {},
     "output_type": "execute_result"
    }
   ],
   "source": [
    "9.8//2"
   ]
  },
  {
   "cell_type": "code",
   "execution_count": 3,
   "id": "b098edc8-74c8-4986-a39b-484642633f88",
   "metadata": {},
   "outputs": [
    {
     "data": {
      "text/plain": [
       "1"
      ]
     },
     "execution_count": 3,
     "metadata": {},
     "output_type": "execute_result"
    }
   ],
   "source": [
    "5%2           # "
   ]
  },
  {
   "cell_type": "code",
   "execution_count": 11,
   "id": "54fd224b-820e-48c5-9dfe-54dd4649e542",
   "metadata": {},
   "outputs": [
    {
     "data": {
      "text/plain": [
       "1"
      ]
     },
     "execution_count": 11,
     "metadata": {},
     "output_type": "execute_result"
    }
   ],
   "source": [
    "9%2"
   ]
  },
  {
   "cell_type": "code",
   "execution_count": 13,
   "id": "d76ab72e-a82a-4dff-aece-94a022d65254",
   "metadata": {},
   "outputs": [
    {
     "data": {
      "text/plain": [
       "1.5"
      ]
     },
     "execution_count": 13,
     "metadata": {},
     "output_type": "execute_result"
    }
   ],
   "source": [
    "9.5%2"
   ]
  },
  {
   "cell_type": "code",
   "execution_count": 14,
   "id": "c8bd9402-f3c7-4358-82a1-5a2b931b7d5b",
   "metadata": {},
   "outputs": [
    {
     "data": {
      "text/plain": [
       "0.8789999999999996"
      ]
     },
     "execution_count": 14,
     "metadata": {},
     "output_type": "execute_result"
    }
   ],
   "source": [
    "8.879%2"
   ]
  }
 ],
 "metadata": {
  "kernelspec": {
   "display_name": "Python 3 (ipykernel)",
   "language": "python",
   "name": "python3"
  },
  "language_info": {
   "codemirror_mode": {
    "name": "ipython",
    "version": 3
   },
   "file_extension": ".py",
   "mimetype": "text/x-python",
   "name": "python",
   "nbconvert_exporter": "python",
   "pygments_lexer": "ipython3",
   "version": "3.11.5"
  },
  "toc": {
   "base_numbering": 1,
   "nav_menu": {},
   "number_sections": true,
   "sideBar": true,
   "skip_h1_title": false,
   "title_cell": "Table of Contents",
   "title_sidebar": "Contents",
   "toc_cell": false,
   "toc_position": {},
   "toc_section_display": true,
   "toc_window_display": false
  },
  "vscode": {
   "interpreter": {
    "hash": "31f2aee4e71d21fbe5cf8b01ff0e069b9275f58929596ceb00d14d90e3e16cd6"
   }
  }
 },
 "nbformat": 4,
 "nbformat_minor": 5
}
