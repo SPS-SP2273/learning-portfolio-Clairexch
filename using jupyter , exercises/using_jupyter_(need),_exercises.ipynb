{
 "cells": [
  {
   "cell_type": "markdown",
   "id": "123456",
   "metadata": {},
   "source": [
    "<div style=\"text-align:left;font-size:2em\"><span style=\"font-weight:bolder;font-size:1.25em\">SP2273 | Learning Portfolio</span><br><br><span style=\"font-weight:bold;color:darkred\">Using Jupyter (Need), Exercises</span></div>"
   ]
  },
  {
   "cell_type": "markdown",
   "id": "2166a4fe",
   "metadata": {},
   "source": [
    "## Quadratic Equations"
   ]
  },
  {
   "cell_type": "markdown",
   "id": "f9233798",
   "metadata": {},
   "source": [
    "### Introduction"
   ]
  },
  {
   "cell_type": "markdown",
   "id": "e7b2eab3",
   "metadata": {},
   "source": [
    "![](https://upload.wikimedia.org/wikipedia/commons/thumb/f/f8/Polynomialdeg2.svg/300px-Polynomialdeg2.svg.png)\n",
    "\n",
    "(*Image from the [Wikipedia page on Quadratic equations](https://en.wikipedia.org/wiki/Quadratic_equation)*)\n",
    "\n",
    "The general form of a quadratic equation is:\n",
    "\n",
    "$ax^{2}+bx+c=0$"
   ]
  },
  {
   "cell_type": "markdown",
   "id": "ff4492e7",
   "metadata": {},
   "source": [
    "### Solutions"
   ]
  },
  {
   "cell_type": "markdown",
   "id": "f378a7dc",
   "metadata": {},
   "source": [
    "Provided $a \\ne 0$, we can use an elementary algebraic method called [completeing the square](https://en.wikipedia.org/wiki/Completing_the_square) to show that a quadratic equation has the following solution:\n",
    "\n",
    "$$\n",
    "x = \\dfrac{-b \\pm \\sqrt{b^2-4ac}}{2a}\n",
    "$$"
   ]
  },
  {
   "cell_type": "markdown",
   "id": "4349b905",
   "metadata": {},
   "source": [
    "### Discriminant"
   ]
  },
  {
   "cell_type": "markdown",
   "id": "15a72a29",
   "metadata": {},
   "source": [
    "The quantity $\\Delta = b^{2}-4ac$ is called the **discriminant** of the equation and decides the nature of its solutions. The table below shows the various possibilities."
   ]
  },
  {
   "cell_type": "markdown",
   "id": "6f4a528b",
   "metadata": {},
   "source": [
    "|**Discriminat**| **Roots**|   \n",
    "|:--:|:---|\n",
    "|$\\Delta=b^{2}-4ac=0$|A single solution of *-b/(2a)*|   \n",
    "|$\\Delta=b^{2}-4ac\\gt0$|Two distinct solutions|   \n",
    "|$\\Delta=b^{2}-4ac\\lt0$|No real solutions; both are complex.|   "
   ]
  },
  {
   "cell_type": "markdown",
   "id": "5b92f50d",
   "metadata": {},
   "source": [
    "### Exercise 2\n",
    "\n",
    "1. What is a Git repository?\n",
    "\n",
    "  Ans: It is a space to store files, similar to Google Docs or Dropbox.\n",
    "\n",
    "2. Git keeps tracks of ____BLANK____ in the files in our repository.\n",
    "\n",
    "  Ans: changes\n",
    "\n",
    "3. What is a commit?\n",
    "\n",
    "  Ans: It is an action to specify the changes made to your files that you want to track, along with a short description of the changes made. \n",
    "\n",
    "4. What is a push?\n",
    "\n",
    "  Ans: It is an action that moves or pushes any commits made on your device locally up to the online server, in the cloud. \n",
    "\n",
    "5. What is a pull?\n",
    "\n",
    "  Ans: It is an action made to save any changes made in the cloud to our local device, in order to synchronise and resolve any file conflicts.\n",
    "\n",
    "6. What is the difference between GitHub and GitHub Desktop?\n",
    "\n",
    "  Ans: GitHub is available online whereas GitHub Desktop is available on your local device. "
   ]
  }
 ],
 "metadata": {
  "kernelspec": {
   "display_name": "Python 3 (ipykernel)",
   "language": "python",
   "name": "python3"
  },
  "language_info": {
   "codemirror_mode": {
    "name": "ipython",
    "version": 3
   },
   "file_extension": ".py",
   "mimetype": "text/x-python",
   "name": "python",
   "nbconvert_exporter": "python",
   "pygments_lexer": "ipython3",
   "version": "3.11.5"
  },
  "toc": {
   "base_numbering": 1,
   "nav_menu": {},
   "number_sections": true,
   "sideBar": true,
   "skip_h1_title": false,
   "title_cell": "Table of Contents",
   "title_sidebar": "Contents",
   "toc_cell": false,
   "toc_position": {},
   "toc_section_display": true,
   "toc_window_display": false
  },
  "vscode": {
   "interpreter": {
    "hash": "31f2aee4e71d21fbe5cf8b01ff0e069b9275f58929596ceb00d14d90e3e16cd6"
   }
  }
 },
 "nbformat": 4,
 "nbformat_minor": 5
}
